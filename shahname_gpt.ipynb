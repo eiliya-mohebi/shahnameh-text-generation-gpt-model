{
  "cells": [
    {
      "cell_type": "markdown",
      "metadata": {},
      "source": [
        "# Training a GPT Model on the Shahnameh Dataset\n",
        "\n",
        "This notebook trains a GPT-style transformer model on the Shahnameh (شاهنامه), the epic Persian poem by Ferdowsi. We'll go through:\n",
        "\n",
        "1. Loading and preprocessing the data\n",
        "2. Building a tokenizer for Persian text\n",
        "3. Creating a GPT model architecture\n",
        "4. Training the model\n",
        "5. Generating new Persian text in the style of Shahnameh\n",
        "\n",
        "For full explanation of each section first refer to shakespeare-gpt.ipynb notebook.\n",
        "\n",
        "Developed By Eiliya Mohebi For Educational Purposes.\n",
        "\n",
        "Let's begin!"
      ]
    },
    {
      "cell_type": "code",
      "execution_count": null,
      "metadata": {},
      "outputs": [],
      "source": [
        "# Install required libraries if needed\n",
        "!pip install torch pandas matplotlib"
      ]
    },
    {
      "cell_type": "markdown",
      "metadata": {},
      "source": [
        "## 1. Loading and Exploring the Dataset\n",
        "\n",
        "We'll start by loading our Shahnameh dataset and exploring its structure."
      ]
    },
    {
      "cell_type": "code",
      "execution_count": 1,
      "metadata": {},
      "outputs": [
        {
          "name": "stdout",
          "output_type": "stream",
          "text": [
            "Using device: cuda\n",
            "Dataset shape: (99222, 5)\n"
          ]
        },
        {
          "data": {
            "text/html": [
              "<div>\n",
              "<style scoped>\n",
              "    .dataframe tbody tr th:only-of-type {\n",
              "        vertical-align: middle;\n",
              "    }\n",
              "\n",
              "    .dataframe tbody tr th {\n",
              "        vertical-align: top;\n",
              "    }\n",
              "\n",
              "    .dataframe thead th {\n",
              "        text-align: right;\n",
              "    }\n",
              "</style>\n",
              "<table border=\"1\" class=\"dataframe\">\n",
              "  <thead>\n",
              "    <tr style=\"text-align: right;\">\n",
              "      <th></th>\n",
              "      <th>Chapter</th>\n",
              "      <th>Part</th>\n",
              "      <th>Bait</th>\n",
              "      <th>Mesra</th>\n",
              "      <th>Text</th>\n",
              "    </tr>\n",
              "  </thead>\n",
              "  <tbody>\n",
              "    <tr>\n",
              "      <th>0</th>\n",
              "      <td>1</td>\n",
              "      <td>1</td>\n",
              "      <td>1</td>\n",
              "      <td>1</td>\n",
              "      <td>به نام خداوند جان و خرد</td>\n",
              "    </tr>\n",
              "    <tr>\n",
              "      <th>1</th>\n",
              "      <td>1</td>\n",
              "      <td>1</td>\n",
              "      <td>1</td>\n",
              "      <td>2</td>\n",
              "      <td>کز این برتر اندیشه بر نگذرد</td>\n",
              "    </tr>\n",
              "    <tr>\n",
              "      <th>2</th>\n",
              "      <td>1</td>\n",
              "      <td>1</td>\n",
              "      <td>2</td>\n",
              "      <td>1</td>\n",
              "      <td>خداوند نام و خداوند جای</td>\n",
              "    </tr>\n",
              "    <tr>\n",
              "      <th>3</th>\n",
              "      <td>1</td>\n",
              "      <td>1</td>\n",
              "      <td>2</td>\n",
              "      <td>2</td>\n",
              "      <td>خداوند روزی ده رهنمای</td>\n",
              "    </tr>\n",
              "    <tr>\n",
              "      <th>4</th>\n",
              "      <td>1</td>\n",
              "      <td>1</td>\n",
              "      <td>3</td>\n",
              "      <td>1</td>\n",
              "      <td>خداوند کیوان و گَردان سپهر</td>\n",
              "    </tr>\n",
              "    <tr>\n",
              "      <th>...</th>\n",
              "      <td>...</td>\n",
              "      <td>...</td>\n",
              "      <td>...</td>\n",
              "      <td>...</td>\n",
              "      <td>...</td>\n",
              "    </tr>\n",
              "    <tr>\n",
              "      <th>95</th>\n",
              "      <td>1</td>\n",
              "      <td>3</td>\n",
              "      <td>14</td>\n",
              "      <td>2</td>\n",
              "      <td>سر رستنی سوی بالا کشید</td>\n",
              "    </tr>\n",
              "    <tr>\n",
              "      <th>96</th>\n",
              "      <td>1</td>\n",
              "      <td>3</td>\n",
              "      <td>15</td>\n",
              "      <td>1</td>\n",
              "      <td>زمین را بلندی نبد جایگاه</td>\n",
              "    </tr>\n",
              "    <tr>\n",
              "      <th>97</th>\n",
              "      <td>1</td>\n",
              "      <td>3</td>\n",
              "      <td>15</td>\n",
              "      <td>2</td>\n",
              "      <td>یکی مرکزی تیره بود و سیاه</td>\n",
              "    </tr>\n",
              "    <tr>\n",
              "      <th>98</th>\n",
              "      <td>1</td>\n",
              "      <td>3</td>\n",
              "      <td>16</td>\n",
              "      <td>1</td>\n",
              "      <td>ستاره بر او بر شگفتی نمود</td>\n",
              "    </tr>\n",
              "    <tr>\n",
              "      <th>99</th>\n",
              "      <td>1</td>\n",
              "      <td>3</td>\n",
              "      <td>16</td>\n",
              "      <td>2</td>\n",
              "      <td>به خاک اندرون روشنایی فزود</td>\n",
              "    </tr>\n",
              "  </tbody>\n",
              "</table>\n",
              "<p>100 rows × 5 columns</p>\n",
              "</div>"
            ],
            "text/plain": [
              "    Chapter  Part  Bait  Mesra                         Text\n",
              "0         1     1     1      1      به نام خداوند جان و خرد\n",
              "1         1     1     1      2  کز این برتر اندیشه بر نگذرد\n",
              "2         1     1     2      1      خداوند نام و خداوند جای\n",
              "3         1     1     2      2        خداوند روزی ده رهنمای\n",
              "4         1     1     3      1   خداوند کیوان و گَردان سپهر\n",
              "..      ...   ...   ...    ...                          ...\n",
              "95        1     3    14      2       سر رستنی سوی بالا کشید\n",
              "96        1     3    15      1     زمین را بلندی نبد جایگاه\n",
              "97        1     3    15      2    یکی مرکزی تیره بود و سیاه\n",
              "98        1     3    16      1    ستاره بر او بر شگفتی نمود\n",
              "99        1     3    16      2   به خاک اندرون روشنایی فزود\n",
              "\n",
              "[100 rows x 5 columns]"
            ]
          },
          "execution_count": 1,
          "metadata": {},
          "output_type": "execute_result"
        }
      ],
      "source": [
        "import pandas as pd\n",
        "import numpy as np\n",
        "import torch\n",
        "import torch.nn as nn\n",
        "import torch.nn.functional as F\n",
        "from torch.utils.data import Dataset, DataLoader\n",
        "import matplotlib.pyplot as plt\n",
        "import re\n",
        "import os\n",
        "from collections import Counter\n",
        "\n",
        "# Set random seeds for reproducibility\n",
        "torch.manual_seed(42)\n",
        "np.random.seed(42)\n",
        "\n",
        "# Check if GPU is available\n",
        "device = torch.device(\"cuda\" if torch.cuda.is_available() else \"cpu\")\n",
        "print(f\"Using device: {device}\")\n",
        "\n",
        "# Load the dataset\n",
        "df = pd.read_csv('shahname.csv')\n",
        "\n",
        "# Display basic information\n",
        "print(f\"Dataset shape: {df.shape}\")\n",
        "df.head(100)"
      ]
    },
    {
      "cell_type": "code",
      "execution_count": 2,
      "metadata": {},
      "outputs": [
        {
          "name": "stdout",
          "output_type": "stream",
          "text": [
            "Missing values:\n",
            "Chapter    0\n",
            "Part       0\n",
            "Bait       0\n",
            "Mesra      0\n",
            "Text       0\n",
            "dtype: int64\n",
            "\n",
            "Number of chapters: 61\n",
            "Number of parts: 76\n",
            "Number of verses (Bait): 890\n",
            "\n",
            "Average text length: 24.85 characters\n",
            "Min text length: 18 characters\n",
            "Max text length: 34 characters\n"
          ]
        }
      ],
      "source": [
        "# Check for missing values\n",
        "print(\"Missing values:\")\n",
        "print(df.isnull().sum())\n",
        "\n",
        "# Basic statistics\n",
        "print(f\"\\nNumber of chapters: {df['Chapter'].nunique()}\")\n",
        "print(f\"Number of parts: {df['Part'].nunique()}\")\n",
        "print(f\"Number of verses (Bait): {df['Bait'].max()}\")\n",
        "\n",
        "# Check the distribution of text lengths\n",
        "df['TextLength'] = df['Text'].str.len()\n",
        "print(f\"\\nAverage text length: {df['TextLength'].mean():.2f} characters\")\n",
        "print(f\"Min text length: {df['TextLength'].min()} characters\")\n",
        "print(f\"Max text length: {df['TextLength'].max()} characters\")"
      ]
    },
    {
      "cell_type": "markdown",
      "metadata": {},
      "source": [
        "## 2. Data Preprocessing\n",
        "\n",
        "Let's prepare our dataset by concatenating the text into a single corpus and handling any necessary cleaning."
      ]
    },
    {
      "cell_type": "code",
      "execution_count": 3,
      "metadata": {},
      "outputs": [
        {
          "name": "stdout",
          "output_type": "stream",
          "text": [
            "Total corpus length: 2565005 characters\n",
            "First 300 characters:\n",
            "به نام خداوند جان و خرد\n",
            "کز این برتر اندیشه بر نگذرد\n",
            "خداوند نام و خداوند جای\n",
            "خداوند روزی ده رهنمای\n",
            "خداوند کیوان و گَردان سپهر\n",
            "فروزندهٔ ماه و ناهید و مهر\n",
            "ز نام و نشان و گمان برتر است\n",
            "نگارندهٔ بر شده پیکر است\n",
            "به بینندگان آفریننده را\n",
            "نبینی مرنجان دو بیننده را\n",
            "نیابد بدو نیز اندیشه راه\n",
            "که او برتر از نام و...\n"
          ]
        }
      ],
      "source": [
        "# Function to preprocess Persian text\n",
        "def preprocess_persian_text(text):\n",
        "    # Handle half-space (ZWNJ) for Persian\n",
        "    text = text.replace('\\u200c', ' ')\n",
        "    # Remove extra spaces\n",
        "    text = re.sub(r'\\s+', ' ', text)\n",
        "    return text.strip()\n",
        "\n",
        "# Apply preprocessing to each text entry\n",
        "df['CleanText'] = df['Text'].apply(preprocess_persian_text)\n",
        "\n",
        "# Combine all text into a single corpus\n",
        "# We'll join verses with newlines to maintain poem structure\n",
        "all_text = '\\n'.join(df['CleanText'].tolist())\n",
        "\n",
        "# Display statistics of the combined text\n",
        "print(f\"Total corpus length: {len(all_text)} characters\")\n",
        "print(f\"First 300 characters:\\n{all_text[:300]}...\")"
      ]
    },
    {
      "cell_type": "markdown",
      "metadata": {},
      "source": [
        "## 3. Character-Level Tokenization\n",
        "\n",
        "For simplicity, we'll use character-level tokenization for Persian. This will handle all the Persian characters without needing a complex subword tokenizer."
      ]
    },
    {
      "cell_type": "code",
      "execution_count": 5,
      "metadata": {},
      "outputs": [
        {
          "name": "stdout",
          "output_type": "stream",
          "text": [
            "Vocabulary size: 55 characters\n",
            "Sample characters: \n",
            " !():«»،؛؟ءآأؤئابتث...\n",
            "\n",
            "Original: به نام خداوند جان و \n",
            "Encoded: [17, 40, 1, 39, 16, 38, 1, 22, 23, 16, 41, 39, 23, 1, 20, 16, 39, 1, 41, 1]\n",
            "Decoded: به نام خداوند جان و \n",
            "Correctly decoded: True\n"
          ]
        }
      ],
      "source": [
        "# Get unique characters from the text\n",
        "chars = sorted(list(set(all_text)))\n",
        "vocab_size = len(chars)\n",
        "\n",
        "# Create mappings from characters to indices and vice versa\n",
        "char_to_idx = {ch: i for i, ch in enumerate(chars)}\n",
        "idx_to_char = {i: ch for i, ch in enumerate(chars)}\n",
        "\n",
        "# Display vocabulary information\n",
        "print(f\"Vocabulary size: {vocab_size} characters\")\n",
        "print(f\"Sample characters: {''.join(chars[:20])}...\")\n",
        "\n",
        "# Encoding/decoding functions\n",
        "def encode(text):\n",
        "    return [char_to_idx[ch] for ch in text]\n",
        "\n",
        "def decode(indices):\n",
        "    return ''.join([idx_to_char[idx] for idx in indices])\n",
        "\n",
        "# Test encoding/decoding\n",
        "sample_text = all_text[:20]\n",
        "encoded = encode(sample_text)\n",
        "decoded = decode(encoded)\n",
        "\n",
        "print(f\"\\nOriginal: {sample_text}\")\n",
        "print(f\"Encoded: {encoded}\")\n",
        "print(f\"Decoded: {decoded}\")\n",
        "print(f\"Correctly decoded: {sample_text == decoded}\")"
      ]
    },
    {
      "cell_type": "markdown",
      "metadata": {},
      "source": [
        "## 4. Prepare Training Data\n",
        "\n",
        "Now we'll convert our text corpus to tensors and prepare it for training."
      ]
    },
    {
      "cell_type": "code",
      "execution_count": 6,
      "metadata": {},
      "outputs": [
        {
          "name": "stdout",
          "output_type": "stream",
          "text": [
            "Training data length: 2308504\n",
            "Validation data length: 256501\n"
          ]
        }
      ],
      "source": [
        "# Convert the entire text to a tensor of indices\n",
        "data = torch.tensor(encode(all_text), dtype=torch.long)\n",
        "\n",
        "# Split into train and validation sets (90% train, 10% validation)\n",
        "n = int(0.9 * len(data))\n",
        "train_data = data[:n]\n",
        "val_data = data[n:]\n",
        "\n",
        "# Move data to the device (GPU if available)\n",
        "train_data = train_data.to(device)\n",
        "val_data = val_data.to(device)\n",
        "\n",
        "print(f\"Training data length: {len(train_data)}\")\n",
        "print(f\"Validation data length: {len(val_data)}\")"
      ]
    },
    {
      "cell_type": "markdown",
      "metadata": {},
      "source": [
        "## 5. GPT Model Architecture\n",
        "\n",
        "Next, we'll define the architecture for our GPT model, which includes:\n",
        "- Token embeddings\n",
        "- Position embeddings\n",
        "- Multi-head self-attention\n",
        "- Feed-forward layers\n",
        "- Layer normalization"
      ]
    },
    {
      "cell_type": "code",
      "execution_count": 7,
      "metadata": {},
      "outputs": [],
      "source": [
        "class Head(nn.Module):\n",
        "    \"\"\"Single self-attention head\"\"\"\n",
        "    \n",
        "    def __init__(self, head_size, n_embd, block_size, dropout):\n",
        "        super().__init__()\n",
        "        self.key = nn.Linear(n_embd, head_size, bias=False)\n",
        "        self.query = nn.Linear(n_embd, head_size, bias=False)\n",
        "        self.value = nn.Linear(n_embd, head_size, bias=False)\n",
        "        # Register buffer for causal mask (triangle matrix)\n",
        "        self.register_buffer('tril', torch.tril(torch.ones(block_size, block_size)))\n",
        "        self.dropout = nn.Dropout(dropout)\n",
        "        \n",
        "    def forward(self, x):\n",
        "        B, T, C = x.shape\n",
        "        k = self.key(x)    # (B,T,head_size)\n",
        "        q = self.query(x)  # (B,T,head_size)\n",
        "        \n",
        "        # Compute attention scores (\"affinities\")\n",
        "        wei = q @ k.transpose(-2, -1) * (k.shape[-1] ** -0.5)  # (B,T,T)\n",
        "        # Apply causal mask: mask out future positions (upper triangle)\n",
        "        wei = wei.masked_fill(self.tril[:T, :T] == 0, float('-inf'))  # (B,T,T)\n",
        "        wei = F.softmax(wei, dim=-1)  # (B,T,T)\n",
        "        wei = self.dropout(wei)\n",
        "        \n",
        "        # Weighted aggregation of values\n",
        "        v = self.value(x)  # (B,T,head_size)\n",
        "        out = wei @ v  # (B,T,head_size)\n",
        "        return out"
      ]
    },
    {
      "cell_type": "code",
      "execution_count": 8,
      "metadata": {},
      "outputs": [],
      "source": [
        "class MultiHeadAttention(nn.Module):\n",
        "    \"\"\"Multiple self-attention heads in parallel\"\"\"\n",
        "    \n",
        "    def __init__(self, num_heads, head_size, n_embd, block_size, dropout):\n",
        "        super().__init__()\n",
        "        self.heads = nn.ModuleList([\n",
        "            Head(head_size, n_embd, block_size, dropout) for _ in range(num_heads)\n",
        "        ])\n",
        "        self.proj = nn.Linear(num_heads * head_size, n_embd)\n",
        "        self.dropout = nn.Dropout(dropout)\n",
        "        \n",
        "    def forward(self, x):\n",
        "        # Concatenate outputs from all heads\n",
        "        out = torch.cat([h(x) for h in self.heads], dim=-1)\n",
        "        # Project back to residual pathway size\n",
        "        out = self.proj(out)\n",
        "        out = self.dropout(out)\n",
        "        return out"
      ]
    },
    {
      "cell_type": "code",
      "execution_count": 9,
      "metadata": {},
      "outputs": [],
      "source": [
        "class FeedForward(nn.Module):\n",
        "    \"\"\"Simple feed forward network\"\"\"\n",
        "    \n",
        "    def __init__(self, n_embd, dropout):\n",
        "        super().__init__()\n",
        "        self.net = nn.Sequential(\n",
        "            nn.Linear(n_embd, 4 * n_embd),\n",
        "            nn.ReLU(),\n",
        "            nn.Linear(4 * n_embd, n_embd),\n",
        "            nn.Dropout(dropout),\n",
        "        )\n",
        "        \n",
        "    def forward(self, x):\n",
        "        return self.net(x)"
      ]
    },
    {
      "cell_type": "code",
      "execution_count": 10,
      "metadata": {},
      "outputs": [],
      "source": [
        "class Block(nn.Module):\n",
        "    \"\"\"Transformer block: communication + computation\"\"\"\n",
        "    \n",
        "    def __init__(self, n_embd, n_head, block_size, dropout):\n",
        "        super().__init__()\n",
        "        head_size = n_embd // n_head\n",
        "        self.sa = MultiHeadAttention(n_head, head_size, n_embd, block_size, dropout)\n",
        "        self.ffwd = FeedForward(n_embd, dropout)\n",
        "        self.ln1 = nn.LayerNorm(n_embd)\n",
        "        self.ln2 = nn.LayerNorm(n_embd)\n",
        "        \n",
        "    def forward(self, x):\n",
        "        # Pre-norm residual connections\n",
        "        x = x + self.sa(self.ln1(x))\n",
        "        x = x + self.ffwd(self.ln2(x))\n",
        "        return x"
      ]
    },
    {
      "cell_type": "code",
      "execution_count": 11,
      "metadata": {},
      "outputs": [],
      "source": [
        "class PersianGPT(nn.Module):\n",
        "    \"\"\"GPT Language Model for Persian\"\"\"\n",
        "    \n",
        "    def __init__(self, vocab_size, n_embd, n_head, n_layer, block_size, dropout=0.1):\n",
        "        super().__init__()\n",
        "        self.block_size = block_size\n",
        "        \n",
        "        # Embeddings\n",
        "        self.token_embedding_table = nn.Embedding(vocab_size, n_embd)\n",
        "        self.position_embedding_table = nn.Embedding(block_size, n_embd)\n",
        "        \n",
        "        # Transformer layers\n",
        "        self.blocks = nn.Sequential(*[\n",
        "            Block(n_embd, n_head, block_size, dropout) for _ in range(n_layer)\n",
        "        ])\n",
        "        \n",
        "        # Final layer norm and projection to vocabulary\n",
        "        self.ln_f = nn.LayerNorm(n_embd)\n",
        "        self.lm_head = nn.Linear(n_embd, vocab_size)\n",
        "        \n",
        "        # Initialize weights\n",
        "        self.apply(self._init_weights)\n",
        "    \n",
        "    def _init_weights(self, module):\n",
        "        if isinstance(module, nn.Linear):\n",
        "            torch.nn.init.normal_(module.weight, mean=0.0, std=0.02)\n",
        "            if module.bias is not None:\n",
        "                torch.nn.init.zeros_(module.bias)\n",
        "        elif isinstance(module, nn.Embedding):\n",
        "            torch.nn.init.normal_(module.weight, mean=0.0, std=0.02)\n",
        "    \n",
        "    def forward(self, idx, targets=None):\n",
        "        B, T = idx.shape\n",
        "        \n",
        "        # Token embeddings\n",
        "        tok_emb = self.token_embedding_table(idx)  # (B,T,C)\n",
        "        \n",
        "        # Position embeddings\n",
        "        pos = torch.arange(0, T, dtype=torch.long, device=idx.device)  # (T)\n",
        "        pos_emb = self.position_embedding_table(pos)  # (T,C)\n",
        "        \n",
        "        # Combined embeddings\n",
        "        x = tok_emb + pos_emb  # (B,T,C)\n",
        "        \n",
        "        # Apply transformer blocks\n",
        "        x = self.blocks(x)  # (B,T,C)\n",
        "        \n",
        "        # Apply final layer norm\n",
        "        x = self.ln_f(x)  # (B,T,C)\n",
        "        \n",
        "        # Project to vocabulary\n",
        "        logits = self.lm_head(x)  # (B,T,vocab_size)\n",
        "        \n",
        "        # Compute loss if targets are provided\n",
        "        if targets is None:\n",
        "            loss = None\n",
        "        else:\n",
        "            B, T, C = logits.shape\n",
        "            logits = logits.view(B*T, C)\n",
        "            targets = targets.view(B*T)\n",
        "            loss = F.cross_entropy(logits, targets)\n",
        "            \n",
        "        return logits, loss\n",
        "    \n",
        "    def generate(self, idx, max_new_tokens, temperature=1.0, top_k=None):\n",
        "        \"\"\"Generate text autoregressively\"\"\"\n",
        "        for _ in range(max_new_tokens):\n",
        "            # Crop context to block_size\n",
        "            idx_cond = idx[:, -self.block_size:]\n",
        "            \n",
        "            # Get predictions\n",
        "            logits, _ = self(idx_cond)\n",
        "            \n",
        "            # Focus only on the last time step\n",
        "            logits = logits[:, -1, :] / temperature  # (B, vocab_size)\n",
        "            \n",
        "            # Optional: Apply top-k filtering\n",
        "            if top_k is not None:\n",
        "                v, _ = torch.topk(logits, min(top_k, logits.size(-1)))\n",
        "                logits[logits < v[:, [-1]]] = -float('Inf')\n",
        "            \n",
        "            # Apply softmax to get probabilities\n",
        "            probs = F.softmax(logits, dim=-1)  # (B, vocab_size)\n",
        "            \n",
        "            # Sample from the distribution\n",
        "            idx_next = torch.multinomial(probs, num_samples=1)  # (B, 1)\n",
        "            \n",
        "            # Append to the sequence\n",
        "            idx = torch.cat((idx, idx_next), dim=1)  # (B, T+1)\n",
        "            \n",
        "        return idx"
      ]
    },
    {
      "cell_type": "markdown",
      "metadata": {},
      "source": [
        "## 6. Training Configuration\n",
        "\n",
        "Define hyperparameters and set up the training environment."
      ]
    },
    {
      "cell_type": "code",
      "execution_count": 12,
      "metadata": {},
      "outputs": [
        {
          "name": "stdout",
          "output_type": "stream",
          "text": [
            "Model has 10,781,239 parameters\n"
          ]
        }
      ],
      "source": [
        "# Hyperparameters\n",
        "block_size = 256        # Context size (maximum sequence length)\n",
        "batch_size = 64         # Batch size for training\n",
        "n_embd = 384            # Embedding dimension\n",
        "n_head = 6              # Number of attention heads\n",
        "n_layer = 6             # Number of transformer blocks\n",
        "dropout = 0.2           # Dropout rate\n",
        "learning_rate = 3e-4    # Learning rate\n",
        "max_iters = 5000        # Maximum training iterations\n",
        "eval_interval = 500     # Evaluate every X iterations\n",
        "eval_iters = 50         # Number of batches for evaluation\n",
        "\n",
        "# Create the model and move it to the device\n",
        "model = PersianGPT(\n",
        "    vocab_size=vocab_size,\n",
        "    n_embd=n_embd,\n",
        "    n_head=n_head,\n",
        "    n_layer=n_layer,\n",
        "    block_size=block_size,\n",
        "    dropout=dropout\n",
        ")\n",
        "model = model.to(device)\n",
        "\n",
        "# Print model size\n",
        "print(f\"Model has {sum(p.numel() for p in model.parameters() if p.requires_grad):,} parameters\")"
      ]
    },
    {
      "cell_type": "markdown",
      "metadata": {},
      "source": [
        "## 7. Data Loading and Loss Estimation Functions"
      ]
    },
    {
      "cell_type": "code",
      "execution_count": 13,
      "metadata": {},
      "outputs": [],
      "source": [
        "# Function to get a batch of data\n",
        "def get_batch(split):\n",
        "    data = train_data if split == 'train' else val_data\n",
        "    ix = torch.randint(len(data) - block_size, (batch_size,), device=device)\n",
        "    x = torch.stack([data[i:i+block_size] for i in ix])\n",
        "    y = torch.stack([data[i+1:i+block_size+1] for i in ix])\n",
        "    return x, y\n",
        "\n",
        "# Function to estimate loss on train and validation sets\n",
        "@torch.no_grad()  # Disable gradient computation for efficiency\n",
        "def estimate_loss():\n",
        "    out = {}\n",
        "    model.eval()\n",
        "    for split in ['train', 'val']:\n",
        "        losses = torch.zeros(eval_iters, device=device)\n",
        "        for k in range(eval_iters):\n",
        "            X, Y = get_batch(split)\n",
        "            logits, loss = model(X, Y)\n",
        "            losses[k] = loss.item()\n",
        "        out[split] = losses.mean()\n",
        "    model.train()\n",
        "    return out"
      ]
    },
    {
      "cell_type": "markdown",
      "metadata": {},
      "source": [
        "## 8. Model Training\n",
        "\n",
        "Now let's train our Persian GPT model!"
      ]
    },
    {
      "cell_type": "code",
      "execution_count": 14,
      "metadata": {},
      "outputs": [
        {
          "name": "stdout",
          "output_type": "stream",
          "text": [
            "Starting training...\n",
            "Step 0: train loss 4.1135, val loss 4.1153\n",
            "Step 500: train loss 1.8575, val loss 1.8748\n",
            "Step 1000: train loss 1.4829, val loss 1.5451\n",
            "Step 1500: train loss 1.3476, val loss 1.4274\n",
            "Step 2000: train loss 1.2563, val loss 1.3419\n",
            "Step 2500: train loss 1.1816, val loss 1.2870\n",
            "Step 3000: train loss 1.1352, val loss 1.2541\n",
            "Step 3500: train loss 1.0948, val loss 1.2302\n",
            "Step 4000: train loss 1.0654, val loss 1.2156\n",
            "Step 4500: train loss 1.0376, val loss 1.2031\n",
            "Step 4999: train loss 1.0116, val loss 1.2010\n",
            "Training complete!\n"
          ]
        }
      ],
      "source": [
        "# Create optimizer\n",
        "optimizer = torch.optim.AdamW(model.parameters(), lr=learning_rate)\n",
        "\n",
        "# For tracking training progress\n",
        "train_losses = []\n",
        "val_losses = []\n",
        "iter_nums = []\n",
        "\n",
        "# Training loop\n",
        "print(\"Starting training...\")\n",
        "for iter in range(max_iters):\n",
        "    # Evaluate loss every eval_interval\n",
        "    if iter % eval_interval == 0 or iter == max_iters - 1:\n",
        "        losses = estimate_loss()\n",
        "        train_loss = losses['train'].item()\n",
        "        val_loss = losses['val'].item()\n",
        "        print(f\"Step {iter}: train loss {train_loss:.4f}, val loss {val_loss:.4f}\")\n",
        "        \n",
        "        # Save for plotting later\n",
        "        train_losses.append(train_loss)\n",
        "        val_losses.append(val_loss)\n",
        "        iter_nums.append(iter)\n",
        "    \n",
        "    # Sample a batch of data\n",
        "    xb, yb = get_batch('train')\n",
        "    \n",
        "    # Evaluate the loss\n",
        "    logits, loss = model(xb, yb)\n",
        "    \n",
        "    # Backpropagation\n",
        "    optimizer.zero_grad(set_to_none=True)\n",
        "    loss.backward()\n",
        "    optimizer.step()\n",
        "\n",
        "print(\"Training complete!\")"
      ]
    },
    {
      "cell_type": "markdown",
      "metadata": {},
      "source": [
        "## 9. Plot Training Progress"
      ]
    },
    {
      "cell_type": "code",
      "execution_count": 15,
      "metadata": {},
      "outputs": [
        {
          "data": {
            "image/png": "[encoded data removed]",
            "text/plain": [
              "<Figure size 1000x600 with 1 Axes>"
            ]
          },
          "metadata": {},
          "output_type": "display_data"
        }
      ],
      "source": [
        "# Plot training and validation loss\n",
        "plt.figure(figsize=(10, 6))\n",
        "plt.plot(iter_nums, train_losses, label='Train Loss')\n",
        "plt.plot(iter_nums, val_losses, label='Validation Loss')\n",
        "plt.xlabel('Iteration')\n",
        "plt.ylabel('Loss')\n",
        "plt.title('Training Progress')\n",
        "plt.legend()\n",
        "plt.grid(True)\n",
        "plt.show()"
      ]
    },
    {
      "cell_type": "markdown",
      "metadata": {},
      "source": [
        "## 10. Generate Persian Poetry in the Style of Shahnameh"
      ]
    },
    {
      "cell_type": "code",
      "execution_count": 16,
      "metadata": {},
      "outputs": [
        {
          "name": "stdout",
          "output_type": "stream",
          "text": [
            "=== Generated Persian Poetry (Temperature=0.8) ===\n",
            "به نام خداوند کیوان و مید\n",
            "وگرنه نیابد برین گونه ای\n",
            "همی از پی نام بهرام را\n",
            "بدان نامداران به تخت و کلاه\n",
            "بیارای ایران و بند و بسوخت\n",
            "کسی را که تابنده کرد از نخست\n",
            "به فرمان من بر نخواهم ز کس\n",
            "سه دیگر بگفتم که شاها بسی\n",
            "به\n",
            "\n",
            "=== Generated Persian Poetry (Temperature=1.0) ===\n",
            "چو ایران سپاه آمدند\n",
            "بگسترد و دستان و سستان شدند\n",
            "بپرسید و گفتش کمندش متاز\n",
            "سپهبد بدین کار دیده براز\n",
            "که از راستی دل شده هرچ گوی\n",
            "ودیگر که پاکیزه برجای خویش\n",
            "بگوید چو تو رستم آیدت پیش\n",
            "زمانند رسم اندرین گفته ام\n",
            "هران\n",
            "\n",
            "=== Generated Persian Poetry (Temperature=0.5) ===\n",
            "بدو گفت پیران که ای شهریار\n",
            "به گیتی مرا گر بترس از مهار\n",
            "چو بشنید گفتار او شهریار\n",
            "بدان گه که آید به جای نبرد\n",
            "پراندیشه شد پیش او شاد بود\n",
            "بدو گفت موبد که ای شهریار\n",
            "بدین مرزبان دار و بد روزگار\n",
            "که ای شاه نوشین روا\n"
          ]
        }
      ],
      "source": [
        "# Function to generate text with different parameters\n",
        "def generate_persian_poetry(model, seed_text=\"به نام خداوند\", max_tokens=200, temperature=0.8, top_k=40):\n",
        "    model.eval()\n",
        "    \n",
        "    # Encode the seed text\n",
        "    if seed_text:\n",
        "        context = torch.tensor([encode(seed_text)], dtype=torch.long, device=device)\n",
        "    else:\n",
        "        context = torch.zeros((1, 1), dtype=torch.long, device=device)\n",
        "    \n",
        "    # Generate tokens\n",
        "    generated = model.generate(\n",
        "        idx=context, \n",
        "        max_new_tokens=max_tokens,\n",
        "        temperature=temperature,\n",
        "        top_k=top_k\n",
        "    )\n",
        "    \n",
        "    # Convert back to text\n",
        "    generated_text = decode(generated[0].tolist())\n",
        "    \n",
        "    return generated_text\n",
        "\n",
        "# Generate some examples with different parameters\n",
        "print(\"=== Generated Persian Poetry (Temperature=0.8) ===\")\n",
        "print(generate_persian_poetry(model, seed_text=\"به نام خداوند\", temperature=0.8))\n",
        "print(\"\\n=== Generated Persian Poetry (Temperature=1.0) ===\")\n",
        "print(generate_persian_poetry(model, seed_text=\"چو ایران\", temperature=1.0))\n",
        "print(\"\\n=== Generated Persian Poetry (Temperature=0.5) ===\")\n",
        "print(generate_persian_poetry(model, seed_text=\"بدو گفت\", temperature=0.5))"
      ]
    },
    {
      "cell_type": "markdown",
      "metadata": {},
      "source": [
        "## 11. Save the Trained Model"
      ]
    },
    {
      "cell_type": "code",
      "execution_count": 17,
      "metadata": {},
      "outputs": [
        {
          "name": "stdout",
          "output_type": "stream",
          "text": [
            "Model and configuration saved successfully!\n"
          ]
        }
      ],
      "source": [
        "# Create a directory for models if it doesn't exist\n",
        "os.makedirs('models', exist_ok=True)\n",
        "\n",
        "# Save the model weights\n",
        "torch.save(model.state_dict(), 'models/persian_gpt_shahnameh.pth')\n",
        "\n",
        "# Save vocabulary and model configuration\n",
        "import json\n",
        "model_config = {\n",
        "    'vocab_size': vocab_size,\n",
        "    'n_embd': n_embd,\n",
        "    'n_head': n_head,\n",
        "    'n_layer': n_layer,\n",
        "    'block_size': block_size,\n",
        "    'dropout': dropout,\n",
        "    'char_to_idx': char_to_idx,\n",
        "    'idx_to_char': {str(k): v for k, v in idx_to_char.items()}  # Convert keys to str for JSON\n",
        "}\n",
        "\n",
        "with open('models/persian_gpt_config.json', 'w', encoding='utf-8') as f:\n",
        "    json.dump(model_config, f, ensure_ascii=False, indent=2)\n",
        "\n",
        "print(\"Model and configuration saved successfully!\")"
      ]
    },
    {
      "cell_type": "markdown",
      "metadata": {},
      "source": [
        "## 12. Conclusion\n",
        "\n",
        "In this notebook, we've:\n",
        "1. Loaded and preprocessed the Shahnameh dataset\n",
        "2. Created a character-level tokenizer for Persian text\n",
        "3. Built a GPT-style transformer model\n",
        "4. Trained the model on Persian poetry\n",
        "5. Generated new Persian poetry in the style of Shahnameh\n",
        "6. Save the model\n",
        "\n",
        "The model should be able to generate Persian text that mimics the style and structure of Ferdowsi's Shahnameh. You can continue training for more iterations to improve quality, or experiment with different model sizes and hyperparameters."
      ]
    }
  ],
  "metadata": {
    "kernelspec": {
      "display_name": "env_ml",
      "language": "python",
      "name": "python3"
    },
    "language_info": {
      "codemirror_mode": {
        "name": "ipython",
        "version": 3
      },
      "file_extension": ".py",
      "mimetype": "text/x-python",
      "name": "python",
      "nbconvert_exporter": "python",
      "pygments_lexer": "ipython3",
      "version": "3.9.21"
    }
  },
  "nbformat": 4,
  "nbformat_minor": 4
}
